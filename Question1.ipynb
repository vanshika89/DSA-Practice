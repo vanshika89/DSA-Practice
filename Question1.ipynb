{
  "nbformat": 4,
  "nbformat_minor": 0,
  "metadata": {
    "colab": {
      "name": "TCS NQT Coding Question1.ipynb",
      "provenance": [],
      "authorship_tag": "ABX9TyOkaaw1AiJo8dMcaIze7LaM",
      "include_colab_link": true
    },
    "kernelspec": {
      "name": "python3",
      "display_name": "Python 3"
    },
    "language_info": {
      "name": "python"
    }
  },
  "cells": [
    {
      "cell_type": "markdown",
      "metadata": {
        "id": "view-in-github",
        "colab_type": "text"
      },
      "source": [
        "<a href=\"https://colab.research.google.com/github/vanshika89/Questions-for-practice-/blob/main/Question1.ipynb\" target=\"_parent\"><img src=\"https://colab.research.google.com/assets/colab-badge.svg\" alt=\"Open In Colab\"/></a>"
      ]
    },
    {
      "cell_type": "markdown",
      "metadata": {
        "id": "FFcAXwBPHwR8"
      },
      "source": [
        "**QUESTION:**\n",
        "There is a JAR full of candies for sale at a mall counter. JAR has the capacity N, that is JAR can contain maximum N candies when JAR is full. At any point of time. JAR can have M number of Candies where M<=N. Candies are served to the customers. JAR is never remain empty as when last k candies are left. JAR if refilled with new candies in such a way that JAR get full.\n",
        "Write a code to implement above scenario. Display JAR at counter with available number of candies. Input should be the number of candies one customer can order at point of time. Update the JAR after each purchase and display JAR at Counter.\n",
        "\n",
        "* Output should give number of Candies sold and updated number of Candies in JAR.\n",
        "\n",
        "* If Input is more than candies in JAR, return: “INVALID INPUT”\n",
        "\n",
        "Given, \n",
        "\n",
        "N=10, where N is NUMBER OF CANDIES AVAILABLE\n",
        "\n",
        "K =< 5, where k is number of minimum candies that must be inside JAR ever.\n",
        "\n",
        "**Example 1:**(N = 10, k =< 5)\n",
        "\n",
        "**Input Value**\n",
        "3\n",
        "\n",
        "**Output Value**\n",
        "NUMBER OF CANDIES SOLD : 3\n",
        "NUMBER OF CANDIES AVAILABLE : 7\n",
        "\n",
        "**Input Value**\n",
        "0\n",
        "\n",
        "**Output Value**\n",
        "INVALID INPUT\n",
        "NUMBER OF CANDIES LEFT : 10"
      ]
    },
    {
      "cell_type": "code",
      "metadata": {
        "colab": {
          "base_uri": "https://localhost:8080/"
        },
        "id": "EiMuqba6IgxS",
        "outputId": "9ace39cc-c4b2-4cfa-aecf-e5bd8df3dc87"
      },
      "source": [
        "Total_Candies = 10\n",
        "Candies_Brought = int(input('How many candies you want: '))\n",
        "Remaining = Total_Candies - Candies_Brought\n",
        "if Candies_Brought >= 5:\n",
        "  print('NUMBER OF CANDIES SOLD:', Candies_Brought,'NUMBER OF CANDIES AVAILABLE:', Remaining)\n",
        "else:\n",
        "  print('invalid input \\n NUMBER OF CANDIES AVAILABLE:', Remaining)"
      ],
      "execution_count": 9,
      "outputs": [
        {
          "output_type": "stream",
          "name": "stdout",
          "text": [
            "How many candies you want: -1\n",
            "invalid input \n",
            " NUMBER OF CANDIES AVAILABLE: 11\n"
          ]
        }
      ]
    }
  ]
}